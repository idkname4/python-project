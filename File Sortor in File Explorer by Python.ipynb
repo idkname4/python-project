{
 "cells": [
  {
   "cell_type": "code",
   "execution_count": 16,
   "id": "02556120",
   "metadata": {},
   "outputs": [],
   "source": [
    "import os , shutil"
   ]
  },
  {
   "cell_type": "code",
   "execution_count": 17,
   "id": "676ec378",
   "metadata": {},
   "outputs": [],
   "source": [
    "path=r\"C:/Users\\HP/practice/\""
   ]
  },
  {
   "cell_type": "code",
   "execution_count": 20,
   "id": "73787df6",
   "metadata": {},
   "outputs": [],
   "source": [
    "file_name =os.listdir(path) # cheking the type of type we have like in my case 4 img and 1 html"
   ]
  },
  {
   "cell_type": "code",
   "execution_count": 21,
   "id": "37e8acd3",
   "metadata": {},
   "outputs": [],
   "source": [
    "folder_type=[\"html files\",\"image files\"]\n",
    "\n",
    "for loop in folder_type:\n",
    "    if not os.path.exists(path +loop):\n",
    "        os.makedirs((path +loop))\n"
   ]
  },
  {
   "cell_type": "code",
   "execution_count": 22,
   "id": "8cf3cdf5",
   "metadata": {},
   "outputs": [],
   "source": [
    "for file in file_name:\n",
    "    if \".html\" in file and not os.path.exists(path +\"html files/\"+file):\n",
    "        shutil.move(path+ file,path +\"html files/\"+file)   \n",
    "    elif \".png\" in file and not os.path.exists(path +\"html files/\"+file):\n",
    "        shutil.move(path+ file,path +\"image files/\"+file)"
   ]
  },
  {
   "cell_type": "markdown",
   "id": "407db78a",
   "metadata": {},
   "source": [
    "# this actually works , this is amazing "
   ]
  },
  {
   "cell_type": "code",
   "execution_count": null,
   "id": "615982d2",
   "metadata": {},
   "outputs": [],
   "source": []
  },
  {
   "cell_type": "code",
   "execution_count": null,
   "id": "b4b6795a",
   "metadata": {},
   "outputs": [],
   "source": []
  },
  {
   "cell_type": "code",
   "execution_count": null,
   "id": "7ec7627b",
   "metadata": {},
   "outputs": [],
   "source": []
  },
  {
   "cell_type": "code",
   "execution_count": null,
   "id": "a3957037",
   "metadata": {},
   "outputs": [],
   "source": []
  },
  {
   "cell_type": "code",
   "execution_count": null,
   "id": "aece25da",
   "metadata": {},
   "outputs": [],
   "source": []
  },
  {
   "cell_type": "code",
   "execution_count": null,
   "id": "36926b81",
   "metadata": {},
   "outputs": [],
   "source": []
  },
  {
   "cell_type": "code",
   "execution_count": null,
   "id": "0561b319",
   "metadata": {},
   "outputs": [],
   "source": []
  },
  {
   "cell_type": "code",
   "execution_count": null,
   "id": "021c61db",
   "metadata": {},
   "outputs": [],
   "source": []
  },
  {
   "cell_type": "code",
   "execution_count": null,
   "id": "9b7090aa",
   "metadata": {},
   "outputs": [],
   "source": []
  }
 ],
 "metadata": {
  "kernelspec": {
   "display_name": "Python 3 (ipykernel)",
   "language": "python",
   "name": "python3"
  },
  "language_info": {
   "codemirror_mode": {
    "name": "ipython",
    "version": 3
   },
   "file_extension": ".py",
   "mimetype": "text/x-python",
   "name": "python",
   "nbconvert_exporter": "python",
   "pygments_lexer": "ipython3",
   "version": "3.11.5"
  }
 },
 "nbformat": 4,
 "nbformat_minor": 5
}
